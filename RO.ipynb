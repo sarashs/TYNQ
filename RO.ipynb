{
 "cells": [
  {
   "cell_type": "code",
   "execution_count": 1,
   "metadata": {},
   "outputs": [
    {
     "data": {
      "application/javascript": [
       "\n",
       "try {\n",
       "require(['notebook/js/codecell'], function(codecell) {\n",
       "  codecell.CodeCell.options_default.highlight_modes[\n",
       "      'magic_text/x-csrc'] = {'reg':[/^%%microblaze/]};\n",
       "  Jupyter.notebook.events.one('kernel_ready.Kernel', function(){\n",
       "      Jupyter.notebook.get_cells().map(function(cell){\n",
       "          if (cell.cell_type == 'code'){ cell.auto_highlight(); } }) ;\n",
       "  });\n",
       "});\n",
       "} catch (e) {};\n"
      ]
     },
     "metadata": {},
     "output_type": "display_data"
    },
    {
     "data": {
      "application/javascript": [
       "\n",
       "try {\n",
       "require(['notebook/js/codecell'], function(codecell) {\n",
       "  codecell.CodeCell.options_default.highlight_modes[\n",
       "      'magic_text/x-csrc'] = {'reg':[/^%%pybind11/]};\n",
       "  Jupyter.notebook.events.one('kernel_ready.Kernel', function(){\n",
       "      Jupyter.notebook.get_cells().map(function(cell){\n",
       "          if (cell.cell_type == 'code'){ cell.auto_highlight(); } }) ;\n",
       "  });\n",
       "});\n",
       "} catch (e) {};\n"
      ]
     },
     "metadata": {},
     "output_type": "display_data"
    }
   ],
   "source": [
    "from pynq import Overlay\n",
    "from time import sleep\n",
    "import numpy as np\n",
    "from matplotlib import pyplot as plt\n",
    "from os import path\n",
    "import pandas as pd\n",
    "from datetime import datetime, timedelta\n",
    "from pytz import timezone\n",
    "%matplotlib inline"
   ]
  },
  {
   "cell_type": "code",
   "execution_count": 2,
   "metadata": {},
   "outputs": [],
   "source": [
    "class TestChip(Overlay):\n",
    "    \"\"\"TestChip class is the main driver\n",
    "    class for interacting with our FPGA bitstream\n",
    "    Coded by: Uncle Arash\n",
    "    Version: 0.0\n",
    "    \"\"\"\n",
    "    def __init__(self, ol_path, **kwargs):\n",
    "        super().__init__(ol_path)\n",
    "        self.heater_base_address = 0x00000000\n",
    "        self.RO_base_address = 0x00000000\n",
    "        self.BTI_base_write_address = 0x00000000\n",
    "        self.BTI_base_read_address = 0x00000004\n",
    "        self.temp_sensor_address = 0x200\n",
    "        self.counter_address_increament = 0x04\n",
    "        self.num_oscillators = 31\n",
    "        self.num_BTI = 31\n",
    "        self.intensity_dict = {i: int(sum(\n",
    "                                          [2**j for j in range(i)])\n",
    "                                      ) for i in range(1, 33)\n",
    "                               }\n",
    "        self.intensity_dict[0] = 0\n",
    "        self.sensor_dict = {i: 2**i for i in range(32)}\n",
    "        for key, value in kwargs.items():\n",
    "            if \"heater_base_address\" in key:\n",
    "                self.heater_base_address = value\n",
    "            if \"counter_base_address\" in key:\n",
    "                self.counter_base_address = value\n",
    "            if \"num_oscillators\" in key:\n",
    "                self.num_oscillators = value\n",
    "            if \"counter_address_increament\" in key:\n",
    "                self.counter_address_increament = value\n",
    "            if \"temp_sensor_address\" in key:\n",
    "                self.temp_sensor_address = value\n",
    "        self._a = 4.07548611   # 5\n",
    "        self._b = 0.50103761   # 50\n",
    "        self.temp_ctrl_sensitivity = 2\n",
    "        self.temp_ctrl_intensity = 0\n",
    "\n",
    "    def XADC_temp(self):\n",
    "        return ((self.Temp_sensor.read(self.temp_sensor_address\n",
    "                                       ) >> 4) * 503.975/4096 - 273.15)\n",
    "\n",
    "    def freq2temp(self, Δf):\n",
    "        \"\"\"The values of a and b are for 5 stage ROs in ZYNQ 7000\"\"\"\n",
    "        return Δf * self._a + self._b\n",
    "\n",
    "    def read_RO(self, RO_list):\n",
    "        \"\"\"Reads the frequency of selected ROs\n",
    "        Parameters:\n",
    "        RO_list (list of int): list of ROs whose values we read\n",
    "\n",
    "        Returns: freq_list (nparray)\n",
    "        \"\"\"\n",
    "        len_ro = len(RO_list)\n",
    "        freq_list = np.zeros((len_ro))\n",
    "        for i in range(len_ro):\n",
    "            assert RO_list[i] <= self.num_oscillators\n",
    "            freq_list[i] = self.RO0.read(\n",
    "                self.RO_base_address +\n",
    "                RO_list[i] * self.counter_address_increament\n",
    "            )/1000\n",
    "        return freq_list\n",
    "\n",
    "    def read_multi_RO(self, RO_dict):\n",
    "        \"\"\"Reads the frequency of selected ROs\n",
    "        Parameters:\n",
    "        RO_dict : {keys=RO_ip_name, values=[RO list per IP]}\n",
    "\n",
    "        Returns: freq_dict {keys=RO_ip_name, values=[frequencies (nparray)]}\n",
    "        \"\"\"\n",
    "        freq_dict={}\n",
    "        for item in RO_dict.keys():\n",
    "            RO_list = RO_dict[item]\n",
    "            len_ro = len(RO_list)\n",
    "            freq_list = np.zeros((len_ro))\n",
    "            RO = getattr(self, item)\n",
    "            for i in range(len_ro):\n",
    "                freq_list[i] = RO.read(\n",
    "                    self.RO_base_address +\n",
    "                    RO_list[i] * self.counter_address_increament\n",
    "                )/1000\n",
    "            freq_dict[item] = freq_list\n",
    "        return freq_dict\n",
    "\n",
    "    def read_BTI(self, BTI_list):\n",
    "        \"\"\"Reads the frequency of selected BTI sensort\n",
    "        Parameters:\n",
    "        BTI_list (list of int): list of BTI sensors whose values we read\n",
    "\n",
    "        Returns: freq_list (nparray)\n",
    "        \"\"\"\n",
    "        len_ro = len(BTI_list)\n",
    "        freq_list = np.zeros((len_ro))\n",
    "        for i in range(len_ro):\n",
    "            assert BTI_list[i] <= self.num_BTI\n",
    "            #   Putting the BTI sensors into the counting mode\n",
    "            self.BTI0.write(self.BTI_base_write_address, self.sensor_dict[BTI_list[i]])\n",
    "            freq_list[i] = self.BTI0.read(\n",
    "                self.BTI_base_read_address +\n",
    "                BTI_list[i] * self.counter_address_increament\n",
    "            )/1000\n",
    "            #   Putting the BTI sensors back into the aging mode\n",
    "            self.BTI0.write(self.BTI_base_write_address, 0)\n",
    "        return freq_list\n",
    "    \n",
    "    def read_multi_BTI(self, BTI_dict):\n",
    "        \"\"\"Reads the frequency of selected BTI sensort\n",
    "        Parameters:\n",
    "        BTI_dict: {keys=BTI_ip_name, values=[BTI list per IP]}\n",
    "\n",
    "        Returns: freq_dict {keys=BTI_ip_name, values=[frequencies (nparray)]}\n",
    "        \"\"\"\n",
    "        freq_dict={}\n",
    "        for item in BTI_dict.keys():\n",
    "            BTI_list = BTI_dict[item]\n",
    "            len_ro = len(BTI_list)\n",
    "            freq_list = np.zeros((len_ro))\n",
    "            BTI = getattr(self, item)\n",
    "            for i in range(len_ro):\n",
    "                #   Putting the BTI sensors into the counting mode\n",
    "                BTI.write(self.BTI_base_write_address, self.sensor_dict[BTI_list[i]])\n",
    "                freq_list[i] = BTI.read(\n",
    "                    self.BTI_base_read_address +\n",
    "                    BTI_list[i] * self.counter_address_increament\n",
    "                )/1000\n",
    "                #   Putting the BTI sensors back into the aging mode\n",
    "                BTI.write(self.BTI_base_write_address, 0)\n",
    "        return freq_dict\n",
    "\n",
    "    def top_region_heat_on(self, intensity):\n",
    "        \"\"\"Turns the top region heat on\n",
    "        top region heat, heats up the whole top region of the chip\n",
    "\n",
    "        Parameters:\n",
    "        intensity (int): intensity of the heat\n",
    "        (the final temperature depends on ventilation\n",
    "        and/or isolation of the chip)\n",
    "        intensity has to be between 0 to 64\n",
    "\n",
    "        Returns: None\n",
    "        \"\"\"\n",
    "\n",
    "        if intensity > 64:\n",
    "            intensity = 64\n",
    "        elif intensity < 0:\n",
    "            intensity = 0\n",
    "\n",
    "        if intensity < 33:\n",
    "            lsb_heater = self.intensity_dict[intensity]\n",
    "            msb_heater = 0x00000000\n",
    "        else:\n",
    "            lsb_heater = 0xFFFFFFFF\n",
    "            msb_heater = self.intensity_dict[intensity-32]\n",
    "\n",
    "        self.heater.write(self.heater_base_address, lsb_heater)\n",
    "        self.heater.write(self.heater_base_address+0x04, msb_heater)\n",
    "\n",
    "    def top_region_heat_off(self):\n",
    "        \"\"\"Turns the top region heat off\n",
    "        top region heat, heats up the whole top region of the chip\n",
    "\n",
    "        Returns: None\n",
    "        \"\"\"\n",
    "\n",
    "        self.heater.write(self.heater_base_address, 0x00000000)\n",
    "        self.heater.write(self.heater_base_address+0x04, 0x00000000)\n",
    "\n",
    "    def fix_temperature(self, desired_temperature):\n",
    "        \"\"\"simple control scheme to fix the temperature to a desired value\n",
    "\n",
    "        Returns: None\n",
    "        \"\"\"\n",
    "\n",
    "        if self.XADC_temp() > (desired_temperature +\n",
    "                               self.temp_ctrl_sensitivity):\n",
    "            self.temp_ctrl_intensity -= 1\n",
    "            self.top_region_heat_on(self.temp_ctrl_intensity)\n",
    "        elif self.XADC_temp() < (desired_temperature -\n",
    "                                 self.temp_ctrl_sensitivity):\n",
    "            self.temp_ctrl_intensity += 1\n",
    "            self.top_region_heat_on(self.temp_ctrl_intensity)\n",
    "        if self.temp_ctrl_intensity > 64:\n",
    "            self.temp_ctrl_intensity = 64\n",
    "        elif self.temp_ctrl_intensity < 0:\n",
    "            self.temp_ctrl_intensity = 0\n",
    "\n",
    "    def __str__(self):\n",
    "        return (f\"Number of ROs: {self.num_oscillators}; \"\n",
    "                \"Current temperature: {self.XADC_temp()}; \"\n",
    "                \"Number of BTIs: {self.num_BTI}\")"
   ]
  },
  {
   "cell_type": "markdown",
   "metadata": {},
   "source": [
    "# Experiment 1 \n",
    "\n",
    "Collect grid data of RO frequency."
   ]
  },
  {
   "cell_type": "code",
   "execution_count": 6,
   "metadata": {},
   "outputs": [],
   "source": [
    "def record(ol, total_duration, every, num_oscillators):\n",
    "    \"\"\"\n",
    "    parameters\n",
    "    ----------\n",
    "    total_duration : total duration in seconds\n",
    "    every : sampling step size in seconds\n",
    "    \"\"\"\n",
    "    data = []   # [RO0, ..., RO{num_oscillators},Temperature, En_Freq, Duty_Cycle]\n",
    "    RO_dict = dict(RO0=list(range(32)), RO1=list(range(32)), RO2=list(range(29)))\n",
    "    times = []\n",
    "    init_time = datetime.now()\n",
    "    now_time = init_time\n",
    "    while(now_time < (init_time + total_duration)):\n",
    "        now_time = datetime.now()\n",
    "        temp = ol.XADC_temp()\n",
    "        output_dict = ol.read_multi_RO(RO_dict)\n",
    "        current_read = np.hstack((output_dict['RO0'], output_dict['RO1']))\n",
    "        current_read = np.hstack((current_read, output_dict['RO2']))\n",
    "        current_read = np.hstack((current_read, np.array([temp, 0, 0])))\n",
    "        times.append(now_pacific)\n",
    "        data.append(current_read)\n",
    "        while(datetime.now() < now_time + every):\n",
    "            pass\n",
    "        print(now_time)\n",
    "    data = np.vstack(data)\n",
    "    output = pd.DataFrame(data, columns=([f'RO{i}' for i in range(num_oscillators)] + ['Temperature', 'En_Freq', 'Duty_Cycle']))\n",
    "    output['Timestamp'] = pd.DataFrame(dict(Timestamp=times))\n",
    "    return output"
   ]
  },
  {
   "cell_type": "code",
   "execution_count": 7,
   "metadata": {},
   "outputs": [],
   "source": [
    "ol = TestChip('/home/xilinx/pynq/overlays/RO/RO.bit')\n",
    "now_pacific = datetime.now(timezone('US/Pacific'))\n",
    "every = timedelta(seconds = 10)\n",
    "total_duration = timedelta(seconds = 30)"
   ]
  },
  {
   "cell_type": "code",
   "execution_count": 14,
   "metadata": {},
   "outputs": [
    {
     "name": "stdout",
     "output_type": "stream",
     "text": [
      "2021-04-27 16:43:48.861734\n",
      "2021-04-27 16:43:58.862226\n",
      "2021-04-27 16:44:08.862729\n",
      "2021-04-27 16:44:18.863239\n"
     ]
    }
   ],
   "source": [
    "output = record(ol, total_duration, every, 93)"
   ]
  },
  {
   "cell_type": "code",
   "execution_count": 13,
   "metadata": {},
   "outputs": [
    {
     "data": {
      "text/plain": [
       "(array([ 2.,  1.,  5., 21.,  6.,  9., 46.,  2.,  0.,  1.]),\n",
       " array([426.668 , 441.4782, 456.2884, 471.0986, 485.9088, 500.719 ,\n",
       "        515.5292, 530.3394, 545.1496, 559.9598, 574.77  ]),\n",
       " <a list of 10 Patch objects>)"
      ]
     },
     "execution_count": 13,
     "metadata": {},
     "output_type": "execute_result"
    },
    {
     "data": {
      "image/png": "[encoded data removed]",
      "text/plain": [
       "<matplotlib.figure.Figure at 0xac8ab0f0>"
      ]
     },
     "metadata": {},
     "output_type": "display_data"
    }
   ],
   "source": [
    "plt.hist([output[f'RO{i}'].loc[0] for i in range(93)])"
   ]
  },
  {
   "cell_type": "code",
   "execution_count": 15,
   "metadata": {},
   "outputs": [
    {
     "data": {
      "text/plain": [
       "(array([ 2.,  1.,  5., 21.,  6., 11., 44.,  2.,  0.,  1.]),\n",
       " array([426.482 , 441.3086, 456.1352, 470.9618, 485.7884, 500.615 ,\n",
       "        515.4416, 530.2682, 545.0948, 559.9214, 574.748 ]),\n",
       " <a list of 10 Patch objects>)"
      ]
     },
     "execution_count": 15,
     "metadata": {},
     "output_type": "execute_result"
    },
    {
     "data": {
      "image/png": "[encoded data removed]",
      "text/plain": [
       "<matplotlib.figure.Figure at 0xaca07a50>"
      ]
     },
     "metadata": {},
     "output_type": "display_data"
    }
   ],
   "source": [
    "plt.hist([output[f'RO{i}'].loc[0] for i in range(93)])"
   ]
  },
  {
   "cell_type": "code",
   "execution_count": 16,
   "metadata": {},
   "outputs": [],
   "source": [
    "ol?"
   ]
  },
  {
   "cell_type": "code",
   "execution_count": null,
   "metadata": {},
   "outputs": [],
   "source": [
    "%%time\n",
    "print(ol.read_RO([0]))"
   ]
  },
  {
   "cell_type": "code",
   "execution_count": null,
   "metadata": {},
   "outputs": [],
   "source": [
    "%%time\n",
    "print(ol.read_BTI([25]))\n",
    "#ol.sensor_dict[1]"
   ]
  },
  {
   "cell_type": "code",
   "execution_count": null,
   "metadata": {},
   "outputs": [],
   "source": [
    "%%time\n",
    "temperature = []\n",
    "for j in range(7000):\n",
    "    temperature.append(ol.XADC_temp())\n",
    "    sleep(0.1)\n",
    "    if j < 250:\n",
    "        ol.fix_temperature(55)\n",
    "    if 500 > j > 250:\n",
    "        ol.fix_temperature(90)\n",
    "    if j > 500:\n",
    "        ol.fix_temperature(120)\n",
    "ol.top_region_heat_off()"
   ]
  },
  {
   "cell_type": "code",
   "execution_count": null,
   "metadata": {},
   "outputs": [],
   "source": [
    "fig, ax = plt.subplots()\n",
    "ax.plot(temperature)\n",
    "\n",
    "ax.set(xlabel='Sample Number', ylabel='Temperature (C)',\n",
    "       title='Temperature control')\n",
    "ax.grid()\n",
    "\n",
    "fig.savefig(\"Temperature_control2.png\", dpi=300)\n",
    "plt.show()"
   ]
  },
  {
   "cell_type": "code",
   "execution_count": null,
   "metadata": {},
   "outputs": [],
   "source": [
    "%%time\n",
    "temperature = []\n",
    "for intensity in range(64):\n",
    "    ol.top_region_heat_on(intensity)\n",
    "    for j in range(500):\n",
    "        temperature.append(ol.XADC_temp())\n",
    "        sleep(0.1)\n",
    "ol.top_region_heat_off()\n"
   ]
  },
  {
   "cell_type": "code",
   "execution_count": null,
   "metadata": {},
   "outputs": [],
   "source": [
    "fig, ax = plt.subplots()\n",
    "ax.plot(temperature)\n",
    "\n",
    "ax.set(xlabel='Sample Number', ylabel='Temperature (C)',\n",
    "       title='Stepwise Temperature Increase')\n",
    "ax.grid()\n",
    "\n",
    "fig.savefig(\"Temperature_curve.png\", dpi=300)\n",
    "plt.show()"
   ]
  },
  {
   "cell_type": "code",
   "execution_count": null,
   "metadata": {},
   "outputs": [],
   "source": [
    "ol.top_region_heat_off()\n"
   ]
  },
  {
   "cell_type": "code",
   "execution_count": null,
   "metadata": {},
   "outputs": [],
   "source": [
    "max(temperature)"
   ]
  },
  {
   "cell_type": "code",
   "execution_count": 17,
   "metadata": {},
   "outputs": [],
   "source": [
    "ol = Overlay('/home/xilinx/pynq/overlays/base/base.bit')"
   ]
  },
  {
   "cell_type": "code",
   "execution_count": 2,
   "metadata": {},
   "outputs": [],
   "source": [
    "ol = Overlay('/home/xilinx/pynq/overlays/RO/RO.bit')"
   ]
  },
  {
   "cell_type": "code",
   "execution_count": 13,
   "metadata": {},
   "outputs": [
    {
     "data": {
      "text/plain": [
       "496811"
      ]
     },
     "execution_count": 13,
     "metadata": {},
     "output_type": "execute_result"
    }
   ],
   "source": [
    "#for item in ol.ip_dict.keys():\n",
    "a = getattr(ol, 'RO')\n",
    "a.read(0x00)"
   ]
  },
  {
   "cell_type": "code",
   "execution_count": 10,
   "metadata": {},
   "outputs": [
    {
     "data": {
      "text/plain": [
       "<pynq.overlay.DefaultIP at 0xae339a50>"
      ]
     },
     "execution_count": 10,
     "metadata": {},
     "output_type": "execute_result"
    }
   ],
   "source": [
    "ol.RO"
   ]
  },
  {
   "cell_type": "code",
   "execution_count": null,
   "metadata": {},
   "outputs": [],
   "source": [
    "duration = 100\n",
    "output = ol.record(0.1, duration, f'3stageRO')\n",
    "fig, axs = plt.subplots(4)\n",
    "axs[0].plot(output[:,0])\n",
    "axs[1].plot(output[:,1])\n",
    "axs[2].plot(output[:,2])\n",
    "axs[3].plot(output[:,3])"
   ]
  },
  {
   "cell_type": "code",
   "execution_count": null,
   "metadata": {},
   "outputs": [],
   "source": [
    "sleep(20)"
   ]
  },
  {
   "cell_type": "code",
   "execution_count": null,
   "metadata": {},
   "outputs": [],
   "source": [
    "ol = TestChip('/home/xilinx/pynq/overlays/RO/RO3.bit')"
   ]
  },
  {
   "cell_type": "code",
   "execution_count": null,
   "metadata": {},
   "outputs": [],
   "source": [
    "duration = 1000\n",
    "output = ol.record(0.1, duration, f'RO_A1')\n",
    "fig, axs = plt.subplots(4)\n",
    "axs[0].plot(output[:,0])\n",
    "axs[1].plot(output[:,1])\n",
    "axs[2].plot(output[:,2])\n",
    "axs[3].plot(output[:,3])"
   ]
  },
  {
   "cell_type": "code",
   "execution_count": null,
   "metadata": {},
   "outputs": [],
   "source": [
    "sleep(20)"
   ]
  },
  {
   "cell_type": "code",
   "execution_count": null,
   "metadata": {},
   "outputs": [],
   "source": [
    "ol = TestChip('/home/xilinx/pynq/overlays/RO/RO4.bit')"
   ]
  },
  {
   "cell_type": "code",
   "execution_count": null,
   "metadata": {},
   "outputs": [],
   "source": [
    "duration = 1000\n",
    "output = ol.record(0.1, duration, f'R')\n",
    "fig, axs = plt.subplots(4)\n",
    "axs[0].plot(output[:,0])\n",
    "axs[1].plot(output[:,1])\n",
    "axs[2].plot(output[:,2])\n",
    "axs[3].plot(output[:,3])"
   ]
  },
  {
   "cell_type": "code",
   "execution_count": null,
   "metadata": {},
   "outputs": [],
   "source": [
    "for i in range(5):\n",
    "    ol.top_region_heat_on(i)\n",
    "    duration = 100\n",
    "    if i == 4:\n",
    "        duration = 100\n",
    "    output = ol.record(0.1, duration, f'5stagetemp')\n",
    "    print(ol)\n",
    "ol.top_region_heat_off()"
   ]
  },
  {
   "cell_type": "code",
   "execution_count": null,
   "metadata": {},
   "outputs": [],
   "source": [
    "plt.plot([(np.mean(output[50:100,3]) - np.mean(output[i:i+50,3])) for i in [50,120,220,320,420]])\n",
    "plt.plot([(np.mean(output[50:100,2]) - np.mean(output[i:i+50,2])) for i in [50,120,220,320,420]])\n",
    "plt.plot([(np.mean(output[50:100,1]) - np.mean(output[i:i+50,1])) for i in [50,120,220,320,420]])\n",
    "plt.plot([(np.mean(output[50:100,0]) - np.mean(output[i:i+50,0])) for i in [50,120,220,320,420]])"
   ]
  },
  {
   "cell_type": "code",
   "execution_count": null,
   "metadata": {},
   "outputs": [],
   "source": [
    "print(ol.freq2temp(12.792259999999999))"
   ]
  },
  {
   "cell_type": "code",
   "execution_count": null,
   "metadata": {},
   "outputs": [],
   "source": [
    "np.polyfit([0.0,2.140540000000044,4.881680000000017,8.992880000000042,13.151980000000009, 0.0,2.512080000000026,6.111620000000016,8.735359999999986,11.298200000000008], [0.0, 9.90724291992187,22.632119506835934,37.64801525878907, 50.14895764160157,0.0, 9.90724291992187,22.632119506835934,37.64801525878907, 50.14895764160157], deg = 1)"
   ]
  },
  {
   "cell_type": "code",
   "execution_count": null,
   "metadata": {},
   "outputs": [],
   "source": [
    "for j in range(0,4):\n",
    "    plt.scatter([(np.mean(output[50:100,j]) - np.mean(output[i:i+50,j])) for i in [50,120,220,320,420]], [( np.mean(output[i:i+50,4])- np.mean(output[50:100,4])) for i in [50,120,220,320,420]])"
   ]
  },
  {
   "cell_type": "raw",
   "metadata": {},
   "source": [
    "def XADC_temp():\n",
    "    return ((ol.Temp_sensor.read(0x200) >> 4) * 503.975/4096 - 273.15)"
   ]
  },
  {
   "cell_type": "code",
   "execution_count": null,
   "metadata": {},
   "outputs": [],
   "source": [
    "[(np.mean(output[50:100,0])-np.mean(output[i:i+50,0])) for i in [50,120,220,320,420]]"
   ]
  },
  {
   "cell_type": "code",
   "execution_count": null,
   "metadata": {},
   "outputs": [],
   "source": [
    "for i in range(32):\n",
    "    print(f'[{(i+1)*32-1}:{i*32}]')"
   ]
  },
  {
   "cell_type": "code",
   "execution_count": null,
   "metadata": {},
   "outputs": [],
   "source": [
    "np.zeros((5,1)).shape"
   ]
  },
  {
   "cell_type": "code",
   "execution_count": null,
   "metadata": {},
   "outputs": [],
   "source": []
  }
 ],
 "metadata": {
  "kernelspec": {
   "display_name": "Python 3",
   "language": "python",
   "name": "python3"
  },
  "language_info": {
   "codemirror_mode": {
    "name": "ipython",
    "version": 3
   },
   "file_extension": ".py",
   "mimetype": "text/x-python",
   "name": "python",
   "nbconvert_exporter": "python",
   "pygments_lexer": "ipython3",
   "version": "3.6.5"
  }
 },
 "nbformat": 4,
 "nbformat_minor": 2
}
