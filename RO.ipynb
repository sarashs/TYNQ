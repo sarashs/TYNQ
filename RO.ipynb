{
 "cells": [
  {
   "cell_type": "code",
   "execution_count": 2,
   "metadata": {},
   "outputs": [
    {
     "data": {
      "application/javascript": [
       "\n",
       "try {\n",
       "require(['notebook/js/codecell'], function(codecell) {\n",
       "  codecell.CodeCell.options_default.highlight_modes[\n",
       "      'magic_text/x-csrc'] = {'reg':[/^%%microblaze/]};\n",
       "  Jupyter.notebook.events.one('kernel_ready.Kernel', function(){\n",
       "      Jupyter.notebook.get_cells().map(function(cell){\n",
       "          if (cell.cell_type == 'code'){ cell.auto_highlight(); } }) ;\n",
       "  });\n",
       "});\n",
       "} catch (e) {};\n"
      ]
     },
     "metadata": {},
     "output_type": "display_data"
    },
    {
     "data": {
      "application/javascript": [
       "\n",
       "try {\n",
       "require(['notebook/js/codecell'], function(codecell) {\n",
       "  codecell.CodeCell.options_default.highlight_modes[\n",
       "      'magic_text/x-csrc'] = {'reg':[/^%%pybind11/]};\n",
       "  Jupyter.notebook.events.one('kernel_ready.Kernel', function(){\n",
       "      Jupyter.notebook.get_cells().map(function(cell){\n",
       "          if (cell.cell_type == 'code'){ cell.auto_highlight(); } }) ;\n",
       "  });\n",
       "});\n",
       "} catch (e) {};\n"
      ]
     },
     "metadata": {},
     "output_type": "display_data"
    }
   ],
   "source": [
    "from pynq import Overlay\n",
    "from time import sleep\n",
    "import numpy as np\n",
    "from matplotlib import pyplot as plt\n",
    "%matplotlib inline"
   ]
  },
  {
   "cell_type": "code",
   "execution_count": 6,
   "metadata": {},
   "outputs": [],
   "source": [
    "class TestChip(Overlay):\n",
    "    def __init__(self, ol_path, **kwargs):\n",
    "        super().__init__(ol_path)\n",
    "        self.heater_base_address = 0x00000000\n",
    "        self.counter_base_address = 0x00000000\n",
    "        self.temp_sensor_address = 0x200\n",
    "        self.counter_address_increament = 0x04\n",
    "        self.num_oscillators = 4\n",
    "        for key, value in kwargs.items():\n",
    "            if \"heater_base_address\" in key:\n",
    "                self.heater_base_address = value\n",
    "            if \"counter_base_address\" in key:\n",
    "                self.counter_base_address = value\n",
    "            if \"num_oscillators\" in key:\n",
    "                self.num_oscillators = value\n",
    "            if \"counter_address_increament\" in key:\n",
    "                self.counter_address_increament = value\n",
    "            if \"temp_sensor_address\" in key:\n",
    "                self.temp_sensor_address = value\n",
    "        self._a = 5 \n",
    "        self._b = 50\n",
    "    def XADC_temp(self):\n",
    "        return ((self.Temp_sensor.read(self.temp_sensor_address) >> 4) * 503.975/4096 - 273.15)\n",
    "    \n",
    "    def freq2temp(self, Δf):\n",
    "        \"\"\"The values of a and b are for 5 stage ROs in ZYNQ 7000\"\"\"\n",
    "        return Δf * self._a + self._b\n",
    "    \n",
    "    def record(self, step_size, number_of_samples, output_name):\n",
    "        \"\"\"Records the ROs and the XADC temperature\n",
    "        \n",
    "        Parameters:\n",
    "        step_size (float): seconds\n",
    "        number_of_samples (int): total number of samples to be recorded \n",
    "        output_name (str): outputfile_name\n",
    "        \n",
    "        Returns: None\n",
    "        \"\"\"\n",
    "        Output = np.zeros((number_of_samples, self.num_oscillators + 1))\n",
    "        for i in range(number_of_samples):\n",
    "            Output[i,self.num_oscillators] = self.XADC_temp()\n",
    "            for j in range(self.num_oscillators):\n",
    "                Output[i,j] = ol.AXI_counter_0.read(self.counter_base_address + j * self.counter_address_increament)\n",
    "        with open(output_name+f'_numsteps_{number_of_samples}_stepsize_{step_size}.npy', 'wb') as f:\n",
    "            np.save(f, Output)\n",
    "        return Output\n",
    "            \n",
    "    def top_region_heat_on(self, intensity):\n",
    "        \"\"\"Turns the top region heat on\n",
    "        top region heat, heats up the whole top region of the chip\n",
    "        \n",
    "        Parameters:\n",
    "        intensity (int): intensity of the heat (the final temperature depends on ventilation and/or isolation of the chip)\n",
    "        intensity has to be between 0 to 4\n",
    "        \n",
    "        Returns: None\n",
    "        \"\"\"\n",
    "        intensity_list = [0x00000000, 0x00000001, 0x00000003, 0x00000007, 0x0000000F]\n",
    "        assert intensity < len(intensity_list)\n",
    "        \n",
    "        self.AXI4_heater_0.write(self.heater_base_address, intensity_list[intensity])\n",
    "    def top_region_heat_off(self):\n",
    "        \"\"\"Turns the top region heat off\n",
    "        top region heat, heats up the whole top region of the chip\n",
    "        \n",
    "        Returns: None\n",
    "        \"\"\"\n",
    "        self.AXI4_heater_0.write(self.heater_base_address, 0x00000000)\n",
    "    def __str__(self):\n",
    "        return f\"Number of ROs: {self.num_oscillators}; Current temperature: {self.XADC_temp()}\""
   ]
  },
  {
   "cell_type": "code",
   "execution_count": 4,
   "metadata": {},
   "outputs": [],
   "source": [
    "ol = TestChip('/home/xilinx/pynq/overlays/RO/RO.bit')"
   ]
  },
  {
   "cell_type": "code",
   "execution_count": 5,
   "metadata": {},
   "outputs": [
    {
     "name": "stdout",
     "output_type": "stream",
     "text": [
      "Number of ROs: 4; Current temperature: 47.24816894531256\n",
      "Number of ROs: 4; Current temperature: 55.122778320312534\n",
      "Number of ROs: 4; Current temperature: 65.7042846679688\n",
      "Number of ROs: 4; Current temperature: 78.99268798828126\n",
      "Number of ROs: 4; Current temperature: 89.45115356445314\n"
     ]
    }
   ],
   "source": [
    "for i in range(5):\n",
    "    ol.top_region_heat_on(i)\n",
    "    _ = ol.record(0.1, 100, f'intensity_{i}')\n",
    "    print(ol)\n",
    "ol.top_region_heat_off()"
   ]
  },
  {
   "cell_type": "markdown",
   "metadata": {},
   "source": [
    "The register addresses are: 0X00, 0X04, 0X08, 0X0C"
   ]
  },
  {
   "cell_type": "raw",
   "metadata": {},
   "source": [
    "def XADC_temp():\n",
    "    return ((ol.Temp_sensor.read(0x200) >> 4) * 503.975/4096 - 273.15)"
   ]
  },
  {
   "cell_type": "code",
   "execution_count": null,
   "metadata": {},
   "outputs": [],
   "source": []
  }
 ],
 "metadata": {
  "kernelspec": {
   "display_name": "Python 3",
   "language": "python",
   "name": "python3"
  },
  "language_info": {
   "codemirror_mode": {
    "name": "ipython",
    "version": 3
   },
   "file_extension": ".py",
   "mimetype": "text/x-python",
   "name": "python",
   "nbconvert_exporter": "python",
   "pygments_lexer": "ipython3",
   "version": "3.6.5"
  }
 },
 "nbformat": 4,
 "nbformat_minor": 2
}
