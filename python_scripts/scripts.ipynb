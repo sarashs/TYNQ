{
 "cells": [
  {
   "cell_type": "code",
   "execution_count": 2,
   "metadata": {},
   "outputs": [],
   "source": [
    "import pandas as pd\n",
    "import numpy as np\n",
    "import matplotlib.pyplot as plt\n",
    "import seaborn as sns\n",
    "from itertools import product as prd"
   ]
  },
  {
   "cell_type": "code",
   "execution_count": 3,
   "metadata": {},
   "outputs": [
    {
     "data": {
      "text/plain": [
       "(2, 2)"
      ]
     },
     "execution_count": 3,
     "metadata": {},
     "output_type": "execute_result"
    }
   ],
   "source": [
    "a = np.array([[3, 0], [0, 0]])\n",
    "a.shape"
   ]
  },
  {
   "cell_type": "code",
   "execution_count": 38,
   "metadata": {},
   "outputs": [],
   "source": [
    "class Constraints(object):\n",
    "    \"\"\"This is the main class to produce a set of constraints for ROs\"\"\"\n",
    "    def __init__(self, first_instance_names = 'design_1_i/LUT6_RO_0/inst/Inverter/LUT6_inst' \\\n",
    "                 ,other_instance_names = 'design_1_i/LUT6_RO_0/inst/notGates[@inst].Inverter/LUT6_inst'\\\n",
    "                 , max_loop1 = 1, max_loop2 = 1\\\n",
    "                 , num_stages = 3, shape = np.array([[3, 0], [0, 0]]).astype(int), lut_type = 'ALL', start_location = (0,0)):\n",
    "        self.first_instance_names = first_instance_names\n",
    "        self.other_instance_names = other_instance_names\n",
    "        self.max_loop1 = max_loop1\n",
    "        self.max_loop2 = max_loop2\n",
    "        self.num_ROs = num_stages\n",
    "        self.shape = shape.astype(int) #num Slices in x * y\n",
    "        self.lut_type = lut_type # A, B, C, D, All\n",
    "        self.start_location = start_location #{generic_name : [num_RO, num_stages, location_tuple]} ; location_tuple = (x1, y1, x2, y2)\n",
    "        self.data_dict = {'x':[], 'y':[],'A':[],'B':[],'C':[],'D':[]}\n",
    "        self._outputfile = \"constraints\"\n",
    "        assert self.shape.sum() == num_stages\n",
    "    def RO_location(self):\n",
    "        \"\"\"For location constraints\"\"\"\n",
    "        lut_types = ['A', 'B', 'C', 'D']\n",
    "        ROs = self.num_ROs\n",
    "        str1 = 'set_property BEL '\n",
    "        str2 = '6LUT [get_cells '\n",
    "        str4 = 'set_property LOC SLICE_'\n",
    "        with open(self._outputfile + \".XDC\", \"a\") as file:\n",
    "            for i in range(self.shape.shape[0]):\n",
    "                x = self.start_location[0] + i\n",
    "                for j in range(self.shape.shape[1]):\n",
    "                    y = self.start_location[1] + j\n",
    "                    self.data_dict['x'].append(x)\n",
    "                    self.data_dict['y'].append(y)\n",
    "                    self.data_dict['A'].append(0)\n",
    "                    self.data_dict['B'].append(0)\n",
    "                    self.data_dict['C'].append(0)\n",
    "                    self.data_dict['D'].append(0)\n",
    "                    while self.shape[i][j] > 0:\n",
    "                        self.shape[i][j] -= 1\n",
    "                        ROs -= 1\n",
    "                        if len(self.first_instance_names) > 1:\n",
    "                            if ROs == 0:\n",
    "                                str3 = self.first_instance_names + ']'\n",
    "                            else:\n",
    "                                str3 = '{' + self.other_instance_names.replace('@inst1', str((ROs-1) //\\\n",
    "                                        self.max_loop1)).replace('@inst2', str((ROs-1) % self.max_loop1))+ '}' + ']'\n",
    "                        else:\n",
    "                            str3 = '{' + self.other_instance_names.replace('@inst1', str(ROs //\\\n",
    "                                    self.max_loop1)).replace('@inst2', str((ROs) % self.max_loop1)) + '}' + ']'\n",
    "                        if 'ALL' in self.lut_type.upper():\n",
    "                            lut_type = lut_types[self.shape[i][j] % 4]\n",
    "                        else:\n",
    "                            lut_type = self.lut_type\n",
    "                        self.data_dict[lut_type][-1] += 1\n",
    "                        str5 = f'X{x}Y{y} [get_cells '\n",
    "                        file.write(str1 + lut_type + str2 + str3 + \"\\n\")\n",
    "                        file.write(str4 + str5 + str3 + \"\\n\") \n",
    "    def loops(self):\n",
    "        \"\"\"For combinational loop constraints\"\"\"\n",
    "        with open(self._outputfile + \".XDC\", \"a\") as file:\n",
    "            file.write(\"\\n\")\n",
    "            for ROs in range(self.num_stages):\n",
    "                file.write(\"set_property ALLOW_COMBINATORIAL_LOOPS true [get_nets {\" + \\\n",
    "                           self.other_instance_names.replace('@inst1', str(ROs // \\\n",
    "                           self.max_loop1)).replace('@inst2', str(ROs % self.max_loop1)) + '}' + ']'+ \"\\n\")\n",
    "    def plot(self):\n",
    "        \"\"\"Heatmap plot of the locations\"\"\"\n",
    "        key_list = list(self.data_dict.keys())\n",
    "        for item in key_list:\n",
    "            if len(self.data_dict[item]) < len(self.data_dict['x']):\n",
    "                self.data_dict[item] += (len(self.data_dict['x']) - len(self.data_dict[item])) * [0]\n",
    "        dataframe = pd.DataFrame(self.data_dict)\n",
    "        dataframe['6LUT'] = dataframe['A'] + dataframe['B'] + dataframe['C'] + dataframe['D']\n",
    "        for i,j in prd(list(range(35, 60)), list(range(35, 60))):\n",
    "            if (i,j) not in list(zip(self.data_dict['x'], self.data_dict['y'])):\n",
    "                df = pd.DataFrame({'x':[i], 'y':[j], 'A':[0], 'B':[0], 'C':[0], 'D':[0], '6LUT':[0]})\n",
    "                dataframe = dataframe.append(df, ignore_index=True)\n",
    "        dataframe_long = dataframe.pivot_table(index='x',columns='y',values='6LUT')\n",
    "        f, ax = plt.subplots(figsize=(9, 6))\n",
    "        sns.heatmap(dataframe_long, annot=True, fmt=\"d\", linewidths=.5, ax=ax)\n",
    "        return dataframe"
   ]
  },
  {
   "cell_type": "markdown",
   "metadata": {},
   "source": [
    "The following will create one RO of five stages in one slice:"
   ]
  },
  {
   "cell_type": "code",
   "execution_count": 42,
   "metadata": {},
   "outputs": [],
   "source": [
    "arbitrary_shape = 3 * np.kron(np.array([[1, 0, 1, 0],[0, 1, 0, 1],[1, 0, 1, 0],[0, 1, 0, 1]]), np.ones((4,4)))\n",
    "a = Constraints(first_instance_names = '', \\\n",
    "                   other_instance_names = f'design_1_i/LUT6_RO_0/inst/notGates[@inst1].Inverter/LUT6_inst[@inst2]',\\\n",
    "                   max_loop1 = 16, max_loop2 = 8,num_stages = 384, shape = arbitrary_shape, lut_type = \"ALL\" , start_location = (35,35))\n",
    "a.RO_location()"
   ]
  },
  {
   "cell_type": "code",
   "execution_count": 43,
   "metadata": {},
   "outputs": [
    {
     "data": {
      "image/png": "[encoded data removed]",
      "text/plain": [
       "<Figure size 648x432 with 2 Axes>"
      ]
     },
     "metadata": {
      "needs_background": "light"
     },
     "output_type": "display_data"
    }
   ],
   "source": [
    "dataframe = a.plot()"
   ]
  },
  {
   "cell_type": "code",
   "execution_count": 41,
   "metadata": {},
   "outputs": [
    {
     "data": {
      "text/plain": [
       "384.0"
      ]
     },
     "execution_count": 41,
     "metadata": {},
     "output_type": "execute_result"
    }
   ],
   "source": [
    "np.kron(np.array([[1, 0, 1, 0],[0, 1, 0, 1],[1, 0, 1, 0],[0, 1, 0, 1]]), np.ones((4,4))).sum()*3"
   ]
  },
  {
   "cell_type": "code",
   "execution_count": 24,
   "metadata": {},
   "outputs": [
    {
     "data": {
      "text/plain": [
       "array([[1., 1.],\n",
       "       [1., 1.]])"
      ]
     },
     "execution_count": 24,
     "metadata": {},
     "output_type": "execute_result"
    }
   ],
   "source": [
    "np.ones((3,3))"
   ]
  },
  {
   "cell_type": "code",
   "execution_count": 75,
   "metadata": {},
   "outputs": [],
   "source": [
    "a = zip([1,2,3],[2,3,4])"
   ]
  },
  {
   "cell_type": "code",
   "execution_count": 77,
   "metadata": {},
   "outputs": [
    {
     "data": {
      "text/plain": [
       "[(1, 2), (2, 3), (3, 4)]"
      ]
     },
     "execution_count": 77,
     "metadata": {},
     "output_type": "execute_result"
    }
   ],
   "source": [
    "list(a)"
   ]
  },
  {
   "cell_type": "code",
   "execution_count": null,
   "metadata": {},
   "outputs": [],
   "source": []
  }
 ],
 "metadata": {
  "kernelspec": {
   "display_name": "Python 3",
   "language": "python",
   "name": "python3"
  },
  "language_info": {
   "codemirror_mode": {
    "name": "ipython",
    "version": 3
   },
   "file_extension": ".py",
   "mimetype": "text/x-python",
   "name": "python",
   "nbconvert_exporter": "python",
   "pygments_lexer": "ipython3",
   "version": "3.7.3"
  }
 },
 "nbformat": 4,
 "nbformat_minor": 2
}
