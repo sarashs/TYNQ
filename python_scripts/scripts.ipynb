{
 "cells": [
  {
   "cell_type": "code",
   "execution_count": 9,
   "metadata": {},
   "outputs": [],
   "source": [
    "import pandas as pd\n",
    "import numpy as np\n",
    "import matplotlib.pyplot as plt\n",
    "import seaborn as sns\n",
    "from itertools import product as prd\n",
    "import random"
   ]
  },
  {
   "cell_type": "code",
   "execution_count": 55,
   "metadata": {},
   "outputs": [],
   "source": [
    "class Constraints(object):\n",
    "    \"\"\"This is the main class to produce a set of constraints for ROs\"\"\"\n",
    "    def __init__(self, first_instance_names = 'design_1_i/LUT6_RO_0/inst/Inverter/LUT6_inst' \n",
    "                 ,other_instance_names = 'design_1_i/LUT6_RO_0/inst/notGates[@inst].Inverter/LUT6_inst'\n",
    "                 , max_loop1 = 1, max_loop2 = 1\n",
    "                 , num_stages = 3, shape = np.array([[3, 0], [0, 0]]).astype(int)\n",
    "                 , lut_type = 'ALL', start_location = (0,0), shuffle = \"NO\"):\n",
    "        self.first_instance_names = first_instance_names\n",
    "        self.other_instance_names = other_instance_names\n",
    "        self.max_loop1 = max_loop1\n",
    "        self.max_loop2 = max_loop2\n",
    "        self.num_ROs = num_stages\n",
    "        self.shape = shape.astype(int) #num Slices in x * y\n",
    "        self.lut_type = lut_type # A, B, C, D, All\n",
    "        self.start_location = start_location #{generic_name : [num_RO, num_stages, location_tuple]} ; location_tuple = (x1, y1, x2, y2)\n",
    "        self.shuffle = shuffle\n",
    "        self.data_dict = {'x':[], 'y':[],'A':[],'B':[],'C':[],'D':[]}\n",
    "        self._outputfile = \"constraints\"\n",
    "        assert self.shape.sum() == num_stages\n",
    "    def RO_location(self):\n",
    "        \"\"\"For location constraints\"\"\"\n",
    "        lut_types = ['A', 'B', 'C', 'D']\n",
    "        ROs = self.num_ROs\n",
    "        str1 = 'set_property BEL '\n",
    "        str2 = '6LUT [get_cells '\n",
    "        str4 = 'set_property LOC SLICE_'\n",
    "        list_shape0 = list(range(self.shape.shape[0]))\n",
    "        list_shape00 = []\n",
    "        list_shape1 = list(range(self.shape.shape[1]))\n",
    "        list_shape11 = []\n",
    "        if \"YES\" in self.shuffle:\n",
    "            print(\"Shufflinh\")\n",
    "            for i in range(self.shape.shape[0]):\n",
    "                j = random.choice(list_shape0)\n",
    "                list_shape00.append(j)\n",
    "                list_shape0.remove(j)\n",
    "            for i in range(self.shape.shape[1]):\n",
    "                j = random.choice(list_shape1)\n",
    "                list_shape11.append(j)\n",
    "                list_shape1.remove(j)\n",
    "        else:\n",
    "            list_shape00 = list_shape0\n",
    "            list_shape11 = list_shape1\n",
    "        with open(self._outputfile + \".XDC\", \"a\") as file:\n",
    "            for i in list_shape00:\n",
    "                x = self.start_location[0] + i\n",
    "                for j in list_shape11:\n",
    "                    y = self.start_location[1] + j\n",
    "                    self.data_dict['x'].append(x)\n",
    "                    self.data_dict['y'].append(y)\n",
    "                    self.data_dict['A'].append(0)\n",
    "                    self.data_dict['B'].append(0)\n",
    "                    self.data_dict['C'].append(0)\n",
    "                    self.data_dict['D'].append(0)\n",
    "                    while self.shape[i][j] > 0:\n",
    "                        self.shape[i][j] -= 1\n",
    "                        ROs -= 1\n",
    "                        if len(self.first_instance_names) > 1:\n",
    "                            if ROs == 0:\n",
    "                                str3 = self.first_instance_names + ']'\n",
    "                            else:\n",
    "                                str3 = '{' + self.other_instance_names.replace('@inst1', str((ROs-1) // self.max_loop1)).replace('@inst2', str((ROs-1) % self.max_loop1))+ '}' + ']'\n",
    "                        else:\n",
    "                            str3 = '{' + self.other_instance_names.replace('@inst1', str(ROs // self.max_loop1)).replace('@inst2', str((ROs) % self.max_loop1)) + '}' + ']'\n",
    "                        if 'ALL' in self.lut_type.upper():\n",
    "                            lut_type = lut_types[self.shape[i][j] % 4]\n",
    "                        else:\n",
    "                            lut_type = self.lut_type\n",
    "                        self.data_dict[lut_type][-1] += 1\n",
    "                        str5 = f'X{x}Y{y} [get_cells '\n",
    "                        file.write(str1 + lut_type + str2 + str3 + \"\\n\")\n",
    "                        file.write(str4 + str5 + str3 + \"\\n\") \n",
    "    def loops(self):\n",
    "        \"\"\"For combinational loop constraints\"\"\"\n",
    "        with open(self._outputfile + \".XDC\", \"a\") as file:\n",
    "            file.write(\"\\n\")\n",
    "            for ROs in range(self.num_ROs):\n",
    "                file.write(\"set_property ALLOW_COMBINATORIAL_LOOPS true [get_nets {\" + \\\n",
    "                           self.other_instance_names.replace('@inst1', str(ROs // self.max_loop1)).replace('@inst2', str(ROs % self.max_loop1)) + '}' + ']'+ \"\\n\")\n",
    "    def plot(self):\n",
    "        \"\"\"Heatmap plot of the locations\"\"\"\n",
    "        key_list = list(self.data_dict.keys())\n",
    "        for item in key_list:\n",
    "            if len(self.data_dict[item]) < len(self.data_dict['x']):\n",
    "                self.data_dict[item] += (len(self.data_dict['x']) - len(self.data_dict[item])) * [0]\n",
    "        dataframe = pd.DataFrame(self.data_dict)\n",
    "        dataframe['6LUT'] = dataframe['A'] + dataframe['B'] + dataframe['C'] + dataframe['D']\n",
    "        for i,j in prd(list(range(self.start_location[0]-5, self.start_location[0]+45)),\\\n",
    "                       list(range(self.start_location[1]-5, self.start_location[1]+30))):\n",
    "            if (i,j) not in list(zip(self.data_dict['x'], self.data_dict['y'])):\n",
    "                df = pd.DataFrame({'x':[i], 'y':[j], 'A':[0], 'B':[0], 'C':[0], 'D':[0], '6LUT':[0]})\n",
    "                dataframe = dataframe.append(df, ignore_index=True)\n",
    "        dataframe_long = dataframe.pivot_table(index='x',columns='y',values='6LUT')\n",
    "        f, ax = plt.subplots(figsize=(12, 9))\n",
    "        sns.heatmap(dataframe_long, annot=False, fmt=\"d\", linewidths=.1, ax=ax)\n",
    "        return dataframe"
   ]
  },
  {
   "cell_type": "markdown",
   "metadata": {},
   "source": [
    "The following will create one RO of five stages in one slice:"
   ]
  },
  {
   "cell_type": "code",
   "execution_count": 57,
   "metadata": {},
   "outputs": [
    {
     "name": "stdout",
     "output_type": "stream",
     "text": [
      "Shufflinh\n"
     ]
    },
    {
     "data": {
      "image/png": "[encoded data removed]",
      "text/plain": [
       "<Figure size 864x648 with 2 Axes>"
      ]
     },
     "metadata": {
      "needs_background": "light"
     },
     "output_type": "display_data"
    }
   ],
   "source": [
    "square_hole = np.ones((11,15))\n",
    "square_hole[2,3] = 0\n",
    "square_hole[2,4] = 0\n",
    "square_hole[3,4] = 0\n",
    "\n",
    "square_hole[2,7] = 0\n",
    "square_hole[2,8] = 0\n",
    "square_hole[3,8] = 0\n",
    "\n",
    "square_hole[2,11] = 0\n",
    "square_hole[2,12] = 0\n",
    "square_hole[3,12] = 0\n",
    "\n",
    "square_hole[5,2] = 0\n",
    "square_hole[5,3] = 0\n",
    "square_hole[6,2] = 0\n",
    "\n",
    "square_hole[5,6] = 0\n",
    "square_hole[5,7] = 0\n",
    "square_hole[6,6] = 0\n",
    "\n",
    "square_hole[5,10] = 0\n",
    "square_hole[5,11] = 0\n",
    "square_hole[6,10] = 0\n",
    "\n",
    "square_hole[9,3] = 0\n",
    "square_hole[9,7] = 0\n",
    "square_hole[9,11] = 0\n",
    "\n",
    "t = [square_hole, np.zeros((11, 13)), square_hole]\n",
    "square = 4*np.transpose(np.block([t,t]))\n",
    "a = Constraints(first_instance_names = '', \\\n",
    "                   other_instance_names = f'design_1_i/heater/inst/SHE_block[@inst1].SHE[@inst2].SHE/LUT6_inst',\\\n",
    "                   max_loop1 = 36, max_loop2 = 0,num_stages = 36*64, shape = square, lut_type = \"ALL\" , start_location = (52,123), shuffle = \"YES\")\n",
    "a.RO_location()\n",
    "_ = a.plot()"
   ]
  },
  {
   "cell_type": "code",
   "execution_count": 51,
   "metadata": {},
   "outputs": [],
   "source": [
    "a = Constraints(first_instance_names = '', \\\n",
    "                   other_instance_names = f'design_1_i/heater/inst/SHE_block[@inst1].SHE[@inst2].SHE/feedback',\\\n",
    "                   max_loop1 = 36, max_loop2 = 0,num_stages = 36*64, shape = square, lut_type = \"ALL\" , start_location = (60,85))\n",
    "a.loops()"
   ]
  },
  {
   "cell_type": "code",
   "execution_count": 65,
   "metadata": {},
   "outputs": [],
   "source": [
    "square_hole = np.zeros((11,15))\n",
    "square_hole[2,3] = 1\n",
    "square_hole[2,7] = 1\n",
    "square_hole[2,11] = 1\n",
    "square_hole[5,2] = 1\n",
    "square_hole[5,6] = 1\n",
    "square_hole[5,10] = 1 design_1_i/BTI/inst/CRO[11].Inverter0/in0\n",
    "\n",
    "\n",
    "t = [square_hole, np.zeros((11, 13)), square_hole]\n",
    "square = np.transpose(np.block([t,t]))\n",
    "a = Constraints(first_instance_names = '', \\\n",
    "                   other_instance_names = f'design_1_i/BTI/inst/CRO[@inst1].Inverter0/LUT6_inst',\\\n",
    "                   max_loop1 = 1, max_loop2 = 0,num_stages = 24, shape = square, lut_type = \"A\" , start_location = (52,123), shuffle = \"NO\")\n",
    "a.RO_location()\n",
    "a = Constraints(first_instance_names = '', \\\n",
    "                   other_instance_names = f'design_1_i/BTI/inst/CRO[@inst1].Inverter1/LUT6_inst',\\\n",
    "                   max_loop1 = 1, max_loop2 = 0,num_stages = 24, shape = square, lut_type = \"B\" , start_location = (52,123), shuffle = \"NO\")\n",
    "a.RO_location()\n",
    "a = Constraints(first_instance_names = '', \\\n",
    "                   other_instance_names = f'design_1_i/BTI/inst/CRO[@inst1].NAND/LUT6_inst',\\\n",
    "                   max_loop1 = 1, max_loop2 = 0,num_stages = 24, shape = square, lut_type = \"C\" , start_location = (52,123), shuffle = \"NO\")\n",
    "a.RO_location()"
   ]
  },
  {
   "cell_type": "code",
   "execution_count": 72,
   "metadata": {},
   "outputs": [],
   "source": [
    "a = Constraints(first_instance_names = '', \n",
    "                   other_instance_names = f'design_1_i/BTI/inst/CRO[@inst1].Inverter0/in0[0]',\n",
    "                   max_loop1 = 1, max_loop2 = 0,num_stages = 31, shape = np.eye(31), lut_type = \"ALL\" ,\n",
    "                start_location = (60,85))\n",
    "a.loops()"
   ]
  },
  {
   "cell_type": "code",
   "execution_count": 66,
   "metadata": {},
   "outputs": [],
   "source": [
    "square_hole = np.zeros((11,15))\n",
    "\n",
    "square_hole[3,8] = 1\n",
    "square_hole[3,12] = 1\n",
    "square_hole[6,2] = 1\n",
    "square_hole[6,6] = 1\n",
    "square_hole[6,10] = 1\n",
    "square_hole[9,11] = 1\n",
    "\n",
    "t = [square_hole, np.zeros((11, 13)), square_hole]\n",
    "square = 3*np.transpose(np.block([t,t]))\n",
    "a = Constraints(first_instance_names = '', \\\n",
    "                   other_instance_names = f'design_1_i/RO/inst/RO[@inst1].notGate[@inst2].Inverter/LUT6_inst',\\\n",
    "                   max_loop1 = 3, max_loop2 = 0,num_stages = 72, shape = square, lut_type = \"All\" , start_location = (52,123), shuffle = \"NO\")\n",
    "a.RO_location() "
   ]
  },
  {
   "cell_type": "code",
   "execution_count": 70,
   "metadata": {},
   "outputs": [],
   "source": [
    "a = Constraints(first_instance_names = '', \n",
    "                   other_instance_names = f'design_1_i/RO/inst/input_signal[@inst1]',\n",
    "                   max_loop1 = 1, max_loop2 = 0,num_stages = 31, shape = np.eye(31), lut_type = \"ALL\" ,\n",
    "                start_location = (60,85))\n",
    "a.loops()"
   ]
  },
  {
   "cell_type": "code",
   "execution_count": null,
   "metadata": {},
   "outputs": [],
   "source": []
  }
 ],
 "metadata": {
  "kernelspec": {
   "display_name": "Python 3",
   "language": "python",
   "name": "python3"
  },
  "language_info": {
   "codemirror_mode": {
    "name": "ipython",
    "version": 3
   },
   "file_extension": ".py",
   "mimetype": "text/x-python",
   "name": "python",
   "nbconvert_exporter": "python",
   "pygments_lexer": "ipython3",
   "version": "3.7.3"
  }
 },
 "nbformat": 4,
 "nbformat_minor": 2
}
