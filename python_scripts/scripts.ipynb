{
 "cells": [
  {
   "cell_type": "code",
   "execution_count": 54,
   "metadata": {},
   "outputs": [],
   "source": [
    "import pandas as pd\n",
    "import matplotlib.pyplot as plt\n",
    "import seaborn as sns\n",
    "from itertools import product as prd"
   ]
  },
  {
   "cell_type": "code",
   "execution_count": 228,
   "metadata": {},
   "outputs": [],
   "source": [
    "class RO_Constraints(object):\n",
    "    \"\"\"This is the main class to produce a set of constraints for ROs\"\"\"\n",
    "    def __init__(self, first_instance_names = 'design_1_i/LUT6_RO_0/inst/Inverter/LUT6_inst' \\\n",
    "                 ,other_instance_names = 'design_1_i/LUT6_RO_0/inst/notGates[@inst].Inverter/LUT6_inst'\\\n",
    "                 , num_stages = 3, shape = (1, 1), lut_type = 'ALL', start_location = (0,0)):\n",
    "        self.first_instance_names = first_instance_names\n",
    "        self.other_instance_names = other_instance_names #@inst for instance number\n",
    "        self.num_stages = num_stages\n",
    "        self.shape = shape #num Slices in x * y\n",
    "        self.lut_type = lut_type # A, B, C, D, All\n",
    "        x_step = 1\n",
    "        y_step = 1\n",
    "        self.start_location = start_location #{generic_name : [num_RO, num_stages, location_tuple]} ; location_tuple = (x1, y1, x2, y2)\n",
    "        self.data_dict = {'x':[], 'y':[],'A':[],'B':[],'C':[],'D':[]}\n",
    "        self._outputfile = \"constraints\"\n",
    "        \n",
    "        if 'ALL' in self.lut_type:\n",
    "            assert self.shape[0] * self.shape[1] == - ( - self.num_stages // 4)\n",
    "    def location(self):\n",
    "        \"\"\"For location constraints\"\"\"\n",
    "        lut_types = ['A', 'B', 'C', 'D']\n",
    "        x = self.start_location[0]\n",
    "        y = self.start_location[1]\n",
    "        str1 = 'set_property BEL '\n",
    "        str2 = '6LUT [get_cells '\n",
    "        str4 = 'set_property LOC SLICE_'\n",
    "        with open(self._outputfile + \".XDC\", \"a\") as file:\n",
    "            for ROs in range(self.num_stages):\n",
    "                if ROs == 0:\n",
    "                    str3 = self.first_instance_names + ']'\n",
    "                else:\n",
    "                    str3 = '{' + self.other_instance_names.replace('@inst', str(ROs-1)) + '}' + ']'\n",
    "                if 'ALL' in self.lut_type.upper():\n",
    "                    lut_type = lut_types[ROs % 4]\n",
    "                else:\n",
    "                    lut_type = self.lut_type\n",
    "                str5 = f'X{x}Y{y} [get_cells '\n",
    "                file.write(str1 + lut_type + str2 + str3 + \"\\n\")\n",
    "                file.write(str4 + str5 + str3 + \"\\n\")\n",
    "                self.data_dict[lut_type].append(1)\n",
    "                if 'ALL' in self.lut_type.upper():\n",
    "                    if ROs % 4 == 0:\n",
    "                        y += 1\n",
    "                        ## Data dict for plot\n",
    "                        self.data_dict['y'].append(y)\n",
    "                        self.data_dict['x'].append(x)\n",
    "                        ##\n",
    "                else:\n",
    "                    y += int(self.shape[0] * self.shape[1] / self.num_stages)\n",
    "                    ## Data dict for plot\n",
    "                    self.data_dict['y'].append(y)\n",
    "                    self.data_dict['x'].append(x)\n",
    "                    ##\n",
    "                if y == (self.shape[1] + self.start_location[1]):\n",
    "                    y = self.start_location[1]\n",
    "                    x += 1\n",
    "    def loops(self):\n",
    "        \"\"\"For combinational loop constraints\"\"\"\n",
    "        with open(self._outputfile + \".XDC\", \"a\") as file:\n",
    "            file.write(\"\\n\")\n",
    "            for ROs in range(self.num_stages):\n",
    "                file.write(\"set_property ALLOW_COMBINATORIAL_LOOPS true [get_nets {\" +  self.other_instance_names.replace('@inst', str(ROs)) + '}' + ']'+ \"\\n\")\n",
    "    def plot(self):\n",
    "        \"\"\"Heatmap plot of the locations\"\"\"\n",
    "        key_list = list(self.data_dict.keys())\n",
    "        for item in key_list:\n",
    "            if len(self.data_dict[item]) < len(self.data_dict['x']):\n",
    "                self.data_dict[item] += (len(self.data_dict['x']) - len(self.data_dict[item])) * [0]\n",
    "        dataframe = pd.DataFrame(self.data_dict)\n",
    "        dataframe['6LUT'] = dataframe['A'] + dataframe['B'] + dataframe['C'] + dataframe['D']\n",
    "        for i,j in prd(list(range(35, 60)), list(range(35, 60))):\n",
    "            if (i,j) not in list(zip(self.data_dict['x'], self.data_dict['y'])):\n",
    "                df = pd.DataFrame({'x':[i], 'y':[j], 'A':[0], 'B':[0], 'C':[0], 'D':[0], '6LUT':[0]})\n",
    "                dataframe = dataframe.append(df, ignore_index=True)\n",
    "        dataframe_long = dataframe.pivot_table(index='x',columns='y',values='6LUT')\n",
    "        f, ax = plt.subplots(figsize=(9, 6))\n",
    "        sns.heatmap(dataframe_long, annot=True, fmt=\"d\", linewidths=.5, ax=ax)\n",
    "        return dataframe"
   ]
  },
  {
   "cell_type": "markdown",
   "metadata": {},
   "source": [
    "The following will create one RO of five stages in one slice:"
   ]
  },
  {
   "cell_type": "code",
   "execution_count": 230,
   "metadata": {},
   "outputs": [],
   "source": [
    "a = RO_Constraints(first_instance_names = f'design_1_i/LUT6_RO_0/inst/Inverter/LUT6_inst', \\\n",
    "                   other_instance_names = f'design_1_i/LUT6_RO_0/inst/notGates[@inst].Inverter/LUT6_inst',\\\n",
    "                   num_stages = 34, shape = (3,3), lut_type = \"ALL\" , start_location = (40,40))\n",
    "a.location()"
   ]
  },
  {
   "cell_type": "code",
   "execution_count": 232,
   "metadata": {},
   "outputs": [
    {
     "data": {
      "image/png": "[encoded data removed]",
      "text/plain": [
       "<Figure size 648x432 with 2 Axes>"
      ]
     },
     "metadata": {
      "needs_background": "light"
     },
     "output_type": "display_data"
    }
   ],
   "source": [
    "dataframe = a.plot()"
   ]
  },
  {
   "cell_type": "markdown",
   "metadata": {},
   "source": [
    "The following will create 4 ROs of five stages in exactly the same set of slices:"
   ]
  },
  {
   "cell_type": "code",
   "execution_count": 6,
   "metadata": {},
   "outputs": [],
   "source": [
    "for RO in range(4):\n",
    "    lut_types = ['A', 'B', 'C', 'D']\n",
    "    a = RO_Constraints(first_instance_names = f'design_1_i/LUT6_RO_{RO}/inst/Inverter/LUT6_inst', \\\n",
    "                       other_instance_names = f'design_1_i/LUT6_RO_{RO}/inst/notGates[@inst].Inverter/LUT6_inst',\\\n",
    "                       num_stages = 5, shape = 5, lut_type = lut_types[RO % 4] , start_location = (59,50))\n",
    "    a.location()"
   ]
  },
  {
   "cell_type": "markdown",
   "metadata": {},
   "source": [
    "Adding combinational loop constraints for the heater:"
   ]
  },
  {
   "cell_type": "code",
   "execution_count": 3,
   "metadata": {},
   "outputs": [],
   "source": [
    "a = RO_Constraints(first_instance_names = f'design_1_i/AXI4_heater_0/inst/SHEs[0].SHE/feedback', \\\n",
    "                   other_instance_names = f'design_1_i/AXI4_heater_0/inst/SHEs[@inst].SHE/feedback',\\\n",
    "                   num_stages = 480, shape = 120, lut_type = \"ALL\" , start_location = (39,50))\n",
    "a.loops()"
   ]
  },
  {
   "cell_type": "code",
   "execution_count": 2,
   "metadata": {},
   "outputs": [
    {
     "data": {
      "text/plain": [
       "2"
      ]
     },
     "execution_count": 2,
     "metadata": {},
     "output_type": "execute_result"
    }
   ],
   "source": [
    "shape = (1, 2)\n",
    "shape[1]"
   ]
  },
  {
   "cell_type": "code",
   "execution_count": 6,
   "metadata": {},
   "outputs": [],
   "source": [
    "flights_long = sns.load_dataset(\"flights\")\n",
    "flights = flights_long.pivot(\"month\", \"year\", \"passengers\")"
   ]
  },
  {
   "cell_type": "code",
   "execution_count": 7,
   "metadata": {},
   "outputs": [
    {
     "data": {
      "text/html": [
       "<div>\n",
       "<style scoped>\n",
       "    .dataframe tbody tr th:only-of-type {\n",
       "        vertical-align: middle;\n",
       "    }\n",
       "\n",
       "    .dataframe tbody tr th {\n",
       "        vertical-align: top;\n",
       "    }\n",
       "\n",
       "    .dataframe thead th {\n",
       "        text-align: right;\n",
       "    }\n",
       "</style>\n",
       "<table border=\"1\" class=\"dataframe\">\n",
       "  <thead>\n",
       "    <tr style=\"text-align: right;\">\n",
       "      <th>year</th>\n",
       "      <th>1949</th>\n",
       "      <th>1950</th>\n",
       "      <th>1951</th>\n",
       "      <th>1952</th>\n",
       "      <th>1953</th>\n",
       "      <th>1954</th>\n",
       "      <th>1955</th>\n",
       "      <th>1956</th>\n",
       "      <th>1957</th>\n",
       "      <th>1958</th>\n",
       "      <th>1959</th>\n",
       "      <th>1960</th>\n",
       "    </tr>\n",
       "    <tr>\n",
       "      <th>month</th>\n",
       "      <th></th>\n",
       "      <th></th>\n",
       "      <th></th>\n",
       "      <th></th>\n",
       "      <th></th>\n",
       "      <th></th>\n",
       "      <th></th>\n",
       "      <th></th>\n",
       "      <th></th>\n",
       "      <th></th>\n",
       "      <th></th>\n",
       "      <th></th>\n",
       "    </tr>\n",
       "  </thead>\n",
       "  <tbody>\n",
       "    <tr>\n",
       "      <th>January</th>\n",
       "      <td>112</td>\n",
       "      <td>115</td>\n",
       "      <td>145</td>\n",
       "      <td>171</td>\n",
       "      <td>196</td>\n",
       "      <td>204</td>\n",
       "      <td>242</td>\n",
       "      <td>284</td>\n",
       "      <td>315</td>\n",
       "      <td>340</td>\n",
       "      <td>360</td>\n",
       "      <td>417</td>\n",
       "    </tr>\n",
       "    <tr>\n",
       "      <th>February</th>\n",
       "      <td>118</td>\n",
       "      <td>126</td>\n",
       "      <td>150</td>\n",
       "      <td>180</td>\n",
       "      <td>196</td>\n",
       "      <td>188</td>\n",
       "      <td>233</td>\n",
       "      <td>277</td>\n",
       "      <td>301</td>\n",
       "      <td>318</td>\n",
       "      <td>342</td>\n",
       "      <td>391</td>\n",
       "    </tr>\n",
       "    <tr>\n",
       "      <th>March</th>\n",
       "      <td>132</td>\n",
       "      <td>141</td>\n",
       "      <td>178</td>\n",
       "      <td>193</td>\n",
       "      <td>236</td>\n",
       "      <td>235</td>\n",
       "      <td>267</td>\n",
       "      <td>317</td>\n",
       "      <td>356</td>\n",
       "      <td>362</td>\n",
       "      <td>406</td>\n",
       "      <td>419</td>\n",
       "    </tr>\n",
       "    <tr>\n",
       "      <th>April</th>\n",
       "      <td>129</td>\n",
       "      <td>135</td>\n",
       "      <td>163</td>\n",
       "      <td>181</td>\n",
       "      <td>235</td>\n",
       "      <td>227</td>\n",
       "      <td>269</td>\n",
       "      <td>313</td>\n",
       "      <td>348</td>\n",
       "      <td>348</td>\n",
       "      <td>396</td>\n",
       "      <td>461</td>\n",
       "    </tr>\n",
       "    <tr>\n",
       "      <th>May</th>\n",
       "      <td>121</td>\n",
       "      <td>125</td>\n",
       "      <td>172</td>\n",
       "      <td>183</td>\n",
       "      <td>229</td>\n",
       "      <td>234</td>\n",
       "      <td>270</td>\n",
       "      <td>318</td>\n",
       "      <td>355</td>\n",
       "      <td>363</td>\n",
       "      <td>420</td>\n",
       "      <td>472</td>\n",
       "    </tr>\n",
       "  </tbody>\n",
       "</table>\n",
       "</div>"
      ],
      "text/plain": [
       "year      1949  1950  1951  1952  1953  1954  1955  1956  1957  1958  1959  \\\n",
       "month                                                                        \n",
       "January    112   115   145   171   196   204   242   284   315   340   360   \n",
       "February   118   126   150   180   196   188   233   277   301   318   342   \n",
       "March      132   141   178   193   236   235   267   317   356   362   406   \n",
       "April      129   135   163   181   235   227   269   313   348   348   396   \n",
       "May        121   125   172   183   229   234   270   318   355   363   420   \n",
       "\n",
       "year      1960  \n",
       "month           \n",
       "January    417  \n",
       "February   391  \n",
       "March      419  \n",
       "April      461  \n",
       "May        472  "
      ]
     },
     "execution_count": 7,
     "metadata": {},
     "output_type": "execute_result"
    }
   ],
   "source": [
    "flights.head()"
   ]
  },
  {
   "cell_type": "code",
   "execution_count": 75,
   "metadata": {},
   "outputs": [],
   "source": [
    "a = zip([1,2,3],[2,3,4])"
   ]
  },
  {
   "cell_type": "code",
   "execution_count": 77,
   "metadata": {},
   "outputs": [
    {
     "data": {
      "text/plain": [
       "[(1, 2), (2, 3), (3, 4)]"
      ]
     },
     "execution_count": 77,
     "metadata": {},
     "output_type": "execute_result"
    }
   ],
   "source": [
    "list(a)"
   ]
  },
  {
   "cell_type": "code",
   "execution_count": null,
   "metadata": {},
   "outputs": [],
   "source": []
  }
 ],
 "metadata": {
  "kernelspec": {
   "display_name": "Python 3",
   "language": "python",
   "name": "python3"
  },
  "language_info": {
   "codemirror_mode": {
    "name": "ipython",
    "version": 3
   },
   "file_extension": ".py",
   "mimetype": "text/x-python",
   "name": "python",
   "nbconvert_exporter": "python",
   "pygments_lexer": "ipython3",
   "version": "3.7.3"
  }
 },
 "nbformat": 4,
 "nbformat_minor": 2
}
