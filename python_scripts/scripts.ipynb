{
 "cells": [
  {
   "cell_type": "code",
   "execution_count": 1,
   "metadata": {},
   "outputs": [],
   "source": [
    "class RO_Constraints(object):\n",
    "    \"\"\"This is the main class to produce a set of constraints for ROs\"\"\"\n",
    "    def __init__(self, first_instance_names = 'design_1_i/LUT6_RO_0/inst/Inverter/LUT6_inst' \\\n",
    "                 ,other_instance_names = 'design_1_i/LUT6_RO_0/inst/notGates[@inst].Inverter/LUT6_inst'\\\n",
    "                 , num_stages = 3, shape = 1, lut_type = 'ALL', start_location = (0,0)):\n",
    "        self.first_instance_names = first_instance_names\n",
    "        self.other_instance_names = other_instance_names #@inst for instance number\n",
    "        self.num_stages = num_stages\n",
    "        self.shape = shape #num Slices in x directions\n",
    "        self.lut_type = lut_type # A, B, C, D, All\n",
    "        self.start_location = start_location #{generic_name : [num_RO, num_stages, location_tuple]} ; location_tuple = (x1, y1, x2, y2)\n",
    "        self._outputfile = \"constraints\"\n",
    "        \n",
    "        if 'ALL' in self.lut_type:\n",
    "            assert self.shape == - ( - self.num_stages // 4)\n",
    "    def location(self):\n",
    "        \"\"\"For location constraints\"\"\"\n",
    "        lut_types = ['A', 'B', 'C', 'D']\n",
    "        x = self.start_location[0]\n",
    "        y = self.start_location[1]\n",
    "        str1 = 'set_property BEL '\n",
    "        str2 = '6LUT [get_cells '\n",
    "        str4 = 'set_property LOC SLICE_'\n",
    "        with open(self._outputfile + \".XDC\", \"a\") as file:\n",
    "            for ROs in range(self.num_stages):\n",
    "                if ROs == 0:\n",
    "                    str3 = self.first_instance_names + ']'\n",
    "                else:\n",
    "                    str3 = '{' + self.other_instance_names.replace('@inst', str(ROs-1)) + '}' + ']'\n",
    "                if 'ALL' in self.lut_type.upper():\n",
    "                    lut_type = lut_types[ROs % 4]\n",
    "                else:\n",
    "                    lut_type = self.lut_type\n",
    "                str5 = f'X{x}Y{y} [get_cells '\n",
    "                file.write(str1 + lut_type + str2 + str3 + \"\\n\")\n",
    "                file.write(str4 + str5 + str3 + \"\\n\")\n",
    "                if 'ALL' in self.lut_type.upper():\n",
    "                    y += ((ROs + 1 ) // 4)\n",
    "                else:\n",
    "                    y += int(self.shape / self.num_stages)    \n",
    "    def loops(self):\n",
    "        \"\"\"For combinational loop constraints\"\"\"\n",
    "        with open(self._outputfile + \".XDC\", \"a\") as file:\n",
    "            file.write(\"\\n\")\n",
    "            for ROs in range(self.num_stages):\n",
    "                file.write(\"set_property ALLOW_COMBINATORIAL_LOOPS true [get_nets {\" +  self.other_instance_names.replace('@inst', str(ROs)) + '}' + ']'+ \"\\n\")"
   ]
  },
  {
   "cell_type": "markdown",
   "metadata": {},
   "source": [
    "The following will create one RO of five stages in one slice:"
   ]
  },
  {
   "cell_type": "code",
   "execution_count": 26,
   "metadata": {},
   "outputs": [],
   "source": [
    "a = RO_Constraints(first_instance_names = f'design_1_i/LUT6_RO_0/inst/Inverter/LUT6_inst', \\\n",
    "                   other_instance_names = f'design_1_i/LUT6_RO_0/inst/notGates[@inst].Inverter/LUT6_inst',\\\n",
    "                   num_stages = 5, shape = 2, lut_type = \"ALL\" , start_location = (39,50))\n",
    "a.location()"
   ]
  },
  {
   "cell_type": "markdown",
   "metadata": {},
   "source": [
    "The following will create 4 ROs of five stages in exactly the same set of slices:"
   ]
  },
  {
   "cell_type": "code",
   "execution_count": 6,
   "metadata": {},
   "outputs": [],
   "source": [
    "for RO in range(4):\n",
    "    lut_types = ['A', 'B', 'C', 'D']\n",
    "    a = RO_Constraints(first_instance_names = f'design_1_i/LUT6_RO_{RO}/inst/Inverter/LUT6_inst', \\\n",
    "                       other_instance_names = f'design_1_i/LUT6_RO_{RO}/inst/notGates[@inst].Inverter/LUT6_inst',\\\n",
    "                       num_stages = 5, shape = 5, lut_type = lut_types[RO % 4] , start_location = (59,50))\n",
    "    a.location()"
   ]
  },
  {
   "cell_type": "markdown",
   "metadata": {},
   "source": [
    "Adding combinational loop constraints for the heater:"
   ]
  },
  {
   "cell_type": "code",
   "execution_count": 3,
   "metadata": {},
   "outputs": [],
   "source": [
    "a = RO_Constraints(first_instance_names = f'design_1_i/AXI4_heater_0/inst/SHEs[0].SHE/feedback', \\\n",
    "                   other_instance_names = f'design_1_i/AXI4_heater_0/inst/SHEs[@inst].SHE/feedback',\\\n",
    "                   num_stages = 480, shape = 120, lut_type = \"ALL\" , start_location = (39,50))\n",
    "a.loops()"
   ]
  },
  {
   "cell_type": "code",
   "execution_count": null,
   "metadata": {},
   "outputs": [],
   "source": []
  }
 ],
 "metadata": {
  "kernelspec": {
   "display_name": "Python 3",
   "language": "python",
   "name": "python3"
  },
  "language_info": {
   "codemirror_mode": {
    "name": "ipython",
    "version": 3
   },
   "file_extension": ".py",
   "mimetype": "text/x-python",
   "name": "python",
   "nbconvert_exporter": "python",
   "pygments_lexer": "ipython3",
   "version": "3.7.3"
  }
 },
 "nbformat": 4,
 "nbformat_minor": 2
}
