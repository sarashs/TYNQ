{
 "cells": [
  {
   "cell_type": "markdown",
   "metadata": {},
   "source": [
    "# Constraint tutorial"
   ]
  },
  {
   "cell_type": "code",
   "execution_count": 1,
   "metadata": {},
   "outputs": [],
   "source": [
    "import utils\n",
    "from utils import IpLoc, TestCircuit\n",
    "import time\n",
    "import numpy as np\n",
    "from pathlib import Path\n",
    "%matplotlib inline"
   ]
  },
  {
   "cell_type": "markdown",
   "metadata": {},
   "source": [
    "The util functions work with numpy arrays. We have our own data types for taking care of constraints (IpLoc data type) as well as various IPs within the circuit (TestCircuit data type)."
   ]
  },
  {
   "cell_type": "code",
   "execution_count": 2,
   "metadata": {},
   "outputs": [],
   "source": [
    "# Create the initial IpLoc data\n",
    "chip_resources_path = Path('ZYNQ7000.json')\n",
    "location_data = IpLoc(chip_resources_path)"
   ]
  },
  {
   "cell_type": "code",
   "execution_count": 3,
   "metadata": {},
   "outputs": [
    {
     "name": "stdout",
     "output_type": "stream",
     "text": [
      "There are a total of 6 IPs in this design.\n"
     ]
    }
   ],
   "source": [
    "# Create the initial IpLoc data\n",
    "test_circuit_path = Path('IP_configure.yaml')\n",
    "test_circuit = TestCircuit(test_circuit_path)"
   ]
  },
  {
   "cell_type": "markdown",
   "metadata": {},
   "source": [
    "# RO constraints:"
   ]
  },
  {
   "cell_type": "code",
   "execution_count": 4,
   "metadata": {},
   "outputs": [
    {
     "name": "stderr",
     "output_type": "stream",
     "text": [
      "100%|██████████████████████████████████████████████████████████████████████████████| 114/114 [00:00<00:00, 2592.75it/s]\n",
      "100%|██████████████████████████████████████████████████████████████████████████████| 114/114 [00:00<00:00, 3430.58it/s]\n",
      "100%|██████████████████████████████████████████████████████████████████████████████| 114/114 [00:00<00:00, 3334.34it/s]\n",
      "100%|██████████████████████████████████████████████████████████████████████████████| 114/114 [00:00<00:00, 3430.36it/s]\n",
      "100%|██████████████████████████████████████████████████████████████████████████████| 114/114 [00:00<00:00, 3765.65it/s]\n"
     ]
    }
   ],
   "source": [
    "blocked_resources = location_data.copy()\n",
    "for item in test_circuit.circuit.keys():\n",
    "    test_circuit.locations[item] = blocked_resources.copy()\n",
    "    if test_circuit.circuit[item]['IP'] == 'RO':\n",
    "        Num_Oscillators = test_circuit.circuit[item]['IP_specs']['Num_Oscillators']\n",
    "        Num_Stages = test_circuit.circuit[item]['IP_specs']['Num_Stages']\n",
    "        max_x = test_circuit.locations[item].max_x\n",
    "        max_y = test_circuit.locations[item].max_y\n",
    "        for i in range(Num_Oscillators):\n",
    "            x = np.random.randint(max_x)\n",
    "            y = np.random.randint(max_y)\n",
    "            while test_circuit.locations[item].remaining_resources[x, y] != 0:\n",
    "                x = np.random.randint(max_x)\n",
    "                y = np.random.randint(max_y)\n",
    "            test_circuit.locations[item].remaining_resources[x, y] = 4\n",
    "            for j in [test_circuit.locations[item]._lut_a, test_circuit.locations[item]._lut_b, test_circuit.locations[item]._lut_c, test_circuit.locations[item]._lut_d]:\n",
    "                j[x, y] = i\n",
    "        test_circuit.locations[item] = utils.check_and_propose(test_circuit.locations[item], 'L')\n",
    "        blocked_resources = utils.IpLoc.block_resource(blocked_resources, test_circuit.locations[item])"
   ]
  },
  {
   "cell_type": "code",
   "execution_count": 5,
   "metadata": {
    "scrolled": true
   },
   "outputs": [
    {
     "data": {
      "image/png": "[encoded data removed]",
      "text/plain": [
       "<Figure size 432x288 with 2 Axes>"
      ]
     },
     "metadata": {
      "needs_background": "light"
     },
     "output_type": "display_data"
    }
   ],
   "source": [
    "blocked_resources.plot_layout()"
   ]
  },
  {
   "cell_type": "code",
   "execution_count": 6,
   "metadata": {},
   "outputs": [
    {
     "name": "stderr",
     "output_type": "stream",
     "text": [
      "100%|██████████████████████████████████████████████████████████████████████████████| 114/114 [00:00<00:00, 5309.42it/s]\n",
      "100%|██████████████████████████████████████████████████████████████████████████████| 114/114 [00:00<00:00, 5840.29it/s]\n",
      "100%|██████████████████████████████████████████████████████████████████████████████| 114/114 [00:00<00:00, 5840.86it/s]\n",
      "100%|██████████████████████████████████████████████████████████████████████████████| 114/114 [00:00<00:00, 5757.52it/s]\n",
      "100%|██████████████████████████████████████████████████████████████████████████████| 114/114 [00:00<00:00, 5847.36it/s]\n"
     ]
    }
   ],
   "source": [
    "utils.RO_xdc(test_circuit, slice_type='L', outputfile='heater.XDC', json_output='RO_locations.json')"
   ]
  },
  {
   "cell_type": "markdown",
   "metadata": {},
   "source": [
    "# BTI constraints"
   ]
  },
  {
   "cell_type": "markdown",
   "metadata": {},
   "source": [
    "For BTI constraints, we want to block the resources that were previously used for RO."
   ]
  },
  {
   "cell_type": "code",
   "execution_count": null,
   "metadata": {},
   "outputs": [],
   "source": [
    "test_circuit.locations['BTI0'] = blocked_resources.copy()\n",
    "for item in test_circuit.circuit.keys():\n",
    "    if test_circuit.circuit[item]['IP'] == 'BTI':\n",
    "        Num_Oscillators = test_circuit.circuit[item]['IP_specs']['Num_Oscillators']\n",
    "        max_x = test_circuit.locations[item].max_x\n",
    "        max_y = test_circuit.locations[item].max_y\n",
    "        for i in range(Num_Oscillators):\n",
    "            x = np.random.randint(max_x)\n",
    "            y = np.random.randint(max_y)\n",
    "            while test_circuit.locations[item].remaining_resources[x, y] != 0:\n",
    "                x = np.random.randint(max_x)\n",
    "                y = np.random.randint(max_y)\n",
    "            test_circuit.locations[item].remaining_resources[x, y] = 3\n",
    "            for j in [test_circuit.locations[item]._lut_a, test_circuit.locations[item]._lut_b, test_circuit.locations[item]._lut_c]:\n",
    "                j[x, y] = i\n",
    "        test_circuit.locations[item] = utils.check_and_propose(test_circuit.locations[item], 'L')\n",
    "        blocked_resources = utils.IpLoc.block_resource(blocked_resources, test_circuit.locations[item])"
   ]
  },
  {
   "cell_type": "code",
   "execution_count": null,
   "metadata": {},
   "outputs": [],
   "source": [
    "blocked_resources.plot_layout()"
   ]
  },
  {
   "cell_type": "code",
   "execution_count": null,
   "metadata": {},
   "outputs": [],
   "source": [
    "utils.BTI_xdc(test_circuit, slice_type='L', outputfile='BTIs.XDC',json_output='BTI_locations.json')"
   ]
  },
  {
   "cell_type": "markdown",
   "metadata": {},
   "source": [
    "# Heater constraints:"
   ]
  },
  {
   "cell_type": "markdown",
   "metadata": {},
   "source": [
    "For the heater we want to block off the areas that other sensors are located and place the heater on the remaining resources."
   ]
  },
  {
   "cell_type": "code",
   "execution_count": 7,
   "metadata": {
    "scrolled": true
   },
   "outputs": [
    {
     "data": {
      "image/png": "[encoded data removed]",
      "text/plain": [
       "<Figure size 432x288 with 2 Axes>"
      ]
     },
     "metadata": {
      "needs_background": "light"
     },
     "output_type": "display_data"
    }
   ],
   "source": [
    "for item in test_circuit.circuit.keys():\n",
    "    if test_circuit.circuit[item]['IP'] == 'heater':\n",
    "        test_circuit.locations[item] = blocked_resources\n",
    "blocked_resources = utils.heater_xdc(test_circuit, init_coord=(0, 0), dim=(24, 24), outputfile='heater.XDC')\n",
    "blocked_resources.plot_layout()"
   ]
  },
  {
   "cell_type": "code",
   "execution_count": null,
   "metadata": {},
   "outputs": [],
   "source": []
  }
 ],
 "metadata": {
  "kernelspec": {
   "display_name": "Python 3",
   "language": "python",
   "name": "python3"
  },
  "language_info": {
   "codemirror_mode": {
    "name": "ipython",
    "version": 3
   },
   "file_extension": ".py",
   "mimetype": "text/x-python",
   "name": "python",
   "nbconvert_exporter": "python",
   "pygments_lexer": "ipython3",
   "version": "3.7.3"
  }
 },
 "nbformat": 4,
 "nbformat_minor": 2
}
