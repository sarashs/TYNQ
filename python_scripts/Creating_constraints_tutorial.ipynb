{
 "cells": [
  {
   "cell_type": "code",
   "execution_count": null,
   "metadata": {},
   "outputs": [],
   "source": [
    "import utils\n",
    "import time\n",
    "import numpy as np\n",
    "%matplotlib inline"
   ]
  },
  {
   "cell_type": "markdown",
   "metadata": {},
   "source": [
    "The util functions work with numpy arrays. The starting numpy array to work with is the architecture of the device."
   ]
  },
  {
   "cell_type": "code",
   "execution_count": null,
   "metadata": {},
   "outputs": [],
   "source": [
    "%%time\n",
    "a = utils.chipresources()\n",
    "print(a.shape)"
   ]
  },
  {
   "cell_type": "markdown",
   "metadata": {},
   "source": [
    "In order to place LUTs on each slice, you have to give that slice a number. You can also plot the supposed placement. If there are areas that you want to forbid placement, you give them -1. "
   ]
  },
  {
   "cell_type": "code",
   "execution_count": null,
   "metadata": {},
   "outputs": [],
   "source": [
    "%%time\n",
    "a[40:60, 20:30] = 4\n",
    "a[40:60, 30:40] = 1\n",
    "a[60:65, 25:35] = -1\n",
    "utils.plot_layout(a)"
   ]
  },
  {
   "cell_type": "markdown",
   "metadata": {},
   "source": [
    "Normally you would want to perform our experiments on certain types of slices (slice-L). There is a function that gets your pacement and proposes another one that satisfies the slice type condition (and forbidden slice condition)."
   ]
  },
  {
   "cell_type": "code",
   "execution_count": null,
   "metadata": {},
   "outputs": [],
   "source": [
    "%%time\n",
    "b = utils.check_and_propose(a, slice_type='L')"
   ]
  },
  {
   "cell_type": "code",
   "execution_count": null,
   "metadata": {},
   "outputs": [],
   "source": [
    "%%time\n",
    "b = utils.check_and_propose(a, slice_type='M') #   takes longer as there are fewer slicesMs"
   ]
  },
  {
   "cell_type": "markdown",
   "metadata": {},
   "source": [
    "Now lets produce location constraints for the RO IP as per the design in:\n",
    "https://github.com/sarashs/ring_oscillator_zynq\n",
    "\n",
    "Note that the number of LUT per ROs in the input numpy array is one more than the number of stages (inverters). The extra LUT is a pass LUT that acts as a delay."
   ]
  },
  {
   "cell_type": "code",
   "execution_count": null,
   "metadata": {},
   "outputs": [],
   "source": [
    "# prepare the lut locations (upto 4 per slice) for a set of 32, 3 stage ROs\n",
    "Num_Oscillators = 32\n",
    "Num_Stages = 3# 3 stages\n",
    "RO_locations = utils.chipresources() # reading the architecture file\n",
    "for i in range(7, 75, 18): # setting the locations of 32 ROs, 128 LUTs in total\n",
    "    for j in range(57, 93, 10):\n",
    "        RO_locations[j, i] = 4\n",
    "for i in range(125, 144, 6): \n",
    "    for j in range(57, 93, 10):\n",
    "        RO_locations[j, i] = 4\n",
    "utils.plot_layout(RO_locations)\n",
    "# sets the placement constraints and satisfies the slice conditions\n",
    "RO_locations = utils.RO_xdc(Num_Oscillators, Num_Stages, RO_locations, outputfile='ROs.XDC', slice_type='L')"
   ]
  },
  {
   "cell_type": "markdown",
   "metadata": {},
   "source": [
    "Now we prepare the constraint files for the BTI sensors"
   ]
  },
  {
   "cell_type": "code",
   "execution_count": null,
   "metadata": {},
   "outputs": [],
   "source": [
    "Num_Oscillators = 31\n",
    "BTI_locations = np.copy(RO_locations)\n",
    "BTI_locations[BTI_locations != 0] = -1 # slices that were used for ROs become forbidden (-1) \n",
    "for i in range(7, 75, 18): # setting the locations of 31 BTIs, 93 LUTs in total\n",
    "    for j in range(58, 93, 10):\n",
    "        BTI_locations[j, i] = 3\n",
    "for i in range(125, 144, 6): \n",
    "    for j in range(58, 93, 10):\n",
    "        BTI_locations[j, i] = 3\n",
    "BTI_locations[j, i] = 0 # remember this time we only have 31\n",
    "BTI_locations = utils.BTI_xdc(Num_Oscillators, BTI_locations, slice_type='L')"
   ]
  },
  {
   "cell_type": "code",
   "execution_count": null,
   "metadata": {},
   "outputs": [],
   "source": [
    "sensor_locations = RO_locations + BTI_locations\n",
    "utils.plot_layout(sensor_locations)"
   ]
  },
  {
   "cell_type": "markdown",
   "metadata": {},
   "source": [
    "The last item to add is the heating elements. We have a function `fill` that can help with it."
   ]
  },
  {
   "cell_type": "code",
   "execution_count": null,
   "metadata": {},
   "outputs": [],
   "source": [
    "Num_Blocks = 64 # per IP number of blocks of heater\n",
    "Block_Size = 36 # number of SHE (LUT) per block\n",
    "heater_locations = np.copy(sensor_locations)\n",
    "heater_locations[heater_locations != 0] = -1\n",
    "heater_locations = utils.fill(heater_locations, init_coord=(55, 123), dim=(24, 24))\n",
    "heater_locations = utils.heater_xdc(heater_locations, Num_Blocks, Block_Size)"
   ]
  },
  {
   "cell_type": "code",
   "execution_count": null,
   "metadata": {},
   "outputs": [],
   "source": [
    "everything = heater_locations + sensor_locations\n",
    "utils.plot_layout(everything)"
   ]
  },
  {
   "cell_type": "code",
   "execution_count": null,
   "metadata": {},
   "outputs": [],
   "source": []
  }
 ],
 "metadata": {
  "kernelspec": {
   "display_name": "Python 3",
   "language": "python",
   "name": "python3"
  },
  "language_info": {
   "codemirror_mode": {
    "name": "ipython",
    "version": 3
   },
   "file_extension": ".py",
   "mimetype": "text/x-python",
   "name": "python",
   "nbconvert_exporter": "python",
   "pygments_lexer": "ipython3",
   "version": "3.7.3"
  }
 },
 "nbformat": 4,
 "nbformat_minor": 2
}
